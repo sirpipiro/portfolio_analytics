{
 "cells": [
  {
   "cell_type": "code",
   "execution_count": 29,
   "metadata": {},
   "outputs": [],
   "source": [
    "import tushare as ts\n",
    "import pandas as pd\n",
    "import pickle"
   ]
  },
  {
   "cell_type": "code",
   "execution_count": 82,
   "metadata": {},
   "outputs": [],
   "source": [
    "#Used to import HS300 index component ticker list from excel file, which can be downloaded from http://www.csindex.com.cn/.\n",
    "\n",
    "index_sheet = pd.read_excel('D:/Downloads/000300closeweight.xls', dtype = str)\n",
    "ticker_list = index_sheet.values[:, 4]\n",
    "exchange_list = index_sheet.values[:, 7]\n",
    "for i in range(len(ticker_list)):\n",
    "    if(exchange_list[i] == 'SHH'):\n",
    "        ticker_list[i] = ticker_list[i] + '.SH'\n",
    "    elif(exchange_list[i] == 'SHZ'):\n",
    "        ticker_list[i] = ticker_list[i] + '.SZ'\n",
    "my_file = open('./hs300_components', 'wb')\n",
    "pickle.dump(ticker_list, my_file)\n",
    "my_file.close()"
   ]
  },
  {
   "cell_type": "code",
   "execution_count": 83,
   "metadata": {},
   "outputs": [],
   "source": [
    "my_file = open('./hs300_components', 'rb')\n",
    "ticker_list = pickle.load(my_file)\n",
    "my_file.close()"
   ]
  },
  {
   "cell_type": "code",
   "execution_count": 2,
   "metadata": {},
   "outputs": [],
   "source": [
    "ts.set_token('e4cba0aba52adb6aef525f4363b9e19e01dc6e02a3b46f97c882b14e')"
   ]
  },
  {
   "cell_type": "code",
   "execution_count": 4,
   "metadata": {},
   "outputs": [],
   "source": [
    "pro = ts.pro_api()"
   ]
  },
  {
   "cell_type": "code",
   "execution_count": 85,
   "metadata": {},
   "outputs": [],
   "source": [
    "def tushare_qfq_to_zipline_csv(ticker, start_date, end_date, directory):\n",
    "    df = ts.pro_bar(ts_code = ticker, adj = 'qfq', start_date = start_date, end_date = end_date)\n",
    "    df['date'] = pd.to_datetime(df['trade_date'])\n",
    "    df['volume'] = df['amount']\n",
    "    df = df.set_index('date')\n",
    "    df = df.drop(labels = ['ts_code', 'trade_date', 'pre_close', 'change', 'pct_chg', 'vol', 'amount'], axis = 1)\n",
    "    df = df.sort_index()\n",
    "    df.to_csv(directory)\n",
    "    return 0"
   ]
  },
  {
   "cell_type": "code",
   "execution_count": 86,
   "metadata": {},
   "outputs": [],
   "source": [
    "start_date = '20160630'\n",
    "end_date = '20190630'\n",
    "\n",
    "for ticker in ticker_list:\n",
    "    name = ticker.split('.')[0]\n",
    "    directory = './china_a_stocks/daily/' + name + '.csv'\n",
    "    tushare_qfq_to_zipline_csv(ticker, start_date, end_date, directory)"
   ]
  }
 ],
 "metadata": {
  "kernelspec": {
   "display_name": "Python 3",
   "language": "python",
   "name": "python3"
  },
  "language_info": {
   "codemirror_mode": {
    "name": "ipython",
    "version": 3
   },
   "file_extension": ".py",
   "mimetype": "text/x-python",
   "name": "python",
   "nbconvert_exporter": "python",
   "pygments_lexer": "ipython3",
   "version": "3.5.6"
  }
 },
 "nbformat": 4,
 "nbformat_minor": 2
}
